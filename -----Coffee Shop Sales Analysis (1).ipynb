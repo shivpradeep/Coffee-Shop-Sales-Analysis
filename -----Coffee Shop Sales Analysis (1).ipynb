{
 "cells": [
  {
   "cell_type": "markdown",
   "id": "ee8990c6",
   "metadata": {},
   "source": [
    "# --------> COFFEE SHOP SALES ANALYSIS  <------------\n"
   ]
  },
  {
   "cell_type": "code",
   "execution_count": 2,
   "id": "605f4688",
   "metadata": {},
   "outputs": [],
   "source": [
    "import pandas as pd\n",
    "import numpy as np\n",
    "import matplotlib.pyplot as plt\n",
    "import seaborn as sns"
   ]
  },
  {
   "cell_type": "code",
   "execution_count": 3,
   "id": "2b305c9b",
   "metadata": {},
   "outputs": [],
   "source": [
    "df=pd.read_csv(r'C:\\Users\\prade\\Downloads\\coffeeshopsales.csv')"
   ]
  },
  {
   "cell_type": "code",
   "execution_count": 4,
   "id": "0da8ecbf",
   "metadata": {
    "scrolled": true
   },
   "outputs": [
    {
     "data": {
      "text/html": [
       "<div>\n",
       "<style scoped>\n",
       "    .dataframe tbody tr th:only-of-type {\n",
       "        vertical-align: middle;\n",
       "    }\n",
       "\n",
       "    .dataframe tbody tr th {\n",
       "        vertical-align: top;\n",
       "    }\n",
       "\n",
       "    .dataframe thead th {\n",
       "        text-align: right;\n",
       "    }\n",
       "</style>\n",
       "<table border=\"1\" class=\"dataframe\">\n",
       "  <thead>\n",
       "    <tr style=\"text-align: right;\">\n",
       "      <th></th>\n",
       "      <th>transaction_id</th>\n",
       "      <th>transaction_date</th>\n",
       "      <th>transaction_time</th>\n",
       "      <th>transaction_qty</th>\n",
       "      <th>store_id</th>\n",
       "      <th>store_location</th>\n",
       "      <th>product_id</th>\n",
       "      <th>unit_price</th>\n",
       "      <th>product_category</th>\n",
       "      <th>product_type</th>\n",
       "      <th>product_detail</th>\n",
       "    </tr>\n",
       "  </thead>\n",
       "  <tbody>\n",
       "    <tr>\n",
       "      <th>0</th>\n",
       "      <td>1</td>\n",
       "      <td>1/1/2023</td>\n",
       "      <td>7:06:11</td>\n",
       "      <td>2</td>\n",
       "      <td>5</td>\n",
       "      <td>Lower Manhattan</td>\n",
       "      <td>32</td>\n",
       "      <td>3.0</td>\n",
       "      <td>Coffee</td>\n",
       "      <td>Gourmet brewed coffee</td>\n",
       "      <td>Ethiopia Rg</td>\n",
       "    </tr>\n",
       "    <tr>\n",
       "      <th>1</th>\n",
       "      <td>2</td>\n",
       "      <td>1/1/2023</td>\n",
       "      <td>7:08:56</td>\n",
       "      <td>2</td>\n",
       "      <td>5</td>\n",
       "      <td>Lower Manhattan</td>\n",
       "      <td>57</td>\n",
       "      <td>3.1</td>\n",
       "      <td>Tea</td>\n",
       "      <td>Brewed Chai tea</td>\n",
       "      <td>Spicy Eye Opener Chai Lg</td>\n",
       "    </tr>\n",
       "    <tr>\n",
       "      <th>2</th>\n",
       "      <td>3</td>\n",
       "      <td>1/1/2023</td>\n",
       "      <td>7:14:04</td>\n",
       "      <td>2</td>\n",
       "      <td>5</td>\n",
       "      <td>Lower Manhattan</td>\n",
       "      <td>59</td>\n",
       "      <td>4.5</td>\n",
       "      <td>Drinking Chocolate</td>\n",
       "      <td>Hot chocolate</td>\n",
       "      <td>Dark chocolate Lg</td>\n",
       "    </tr>\n",
       "    <tr>\n",
       "      <th>3</th>\n",
       "      <td>4</td>\n",
       "      <td>1/1/2023</td>\n",
       "      <td>7:20:24</td>\n",
       "      <td>1</td>\n",
       "      <td>5</td>\n",
       "      <td>Lower Manhattan</td>\n",
       "      <td>22</td>\n",
       "      <td>2.0</td>\n",
       "      <td>Coffee</td>\n",
       "      <td>Drip coffee</td>\n",
       "      <td>Our Old Time Diner Blend Sm</td>\n",
       "    </tr>\n",
       "    <tr>\n",
       "      <th>4</th>\n",
       "      <td>5</td>\n",
       "      <td>1/1/2023</td>\n",
       "      <td>7:22:41</td>\n",
       "      <td>2</td>\n",
       "      <td>5</td>\n",
       "      <td>Lower Manhattan</td>\n",
       "      <td>57</td>\n",
       "      <td>3.1</td>\n",
       "      <td>Tea</td>\n",
       "      <td>Brewed Chai tea</td>\n",
       "      <td>Spicy Eye Opener Chai Lg</td>\n",
       "    </tr>\n",
       "  </tbody>\n",
       "</table>\n",
       "</div>"
      ],
      "text/plain": [
       "   transaction_id transaction_date transaction_time  transaction_qty  \\\n",
       "0               1         1/1/2023          7:06:11                2   \n",
       "1               2         1/1/2023          7:08:56                2   \n",
       "2               3         1/1/2023          7:14:04                2   \n",
       "3               4         1/1/2023          7:20:24                1   \n",
       "4               5         1/1/2023          7:22:41                2   \n",
       "\n",
       "   store_id   store_location  product_id  unit_price    product_category  \\\n",
       "0         5  Lower Manhattan          32         3.0              Coffee   \n",
       "1         5  Lower Manhattan          57         3.1                 Tea   \n",
       "2         5  Lower Manhattan          59         4.5  Drinking Chocolate   \n",
       "3         5  Lower Manhattan          22         2.0              Coffee   \n",
       "4         5  Lower Manhattan          57         3.1                 Tea   \n",
       "\n",
       "            product_type               product_detail  \n",
       "0  Gourmet brewed coffee                  Ethiopia Rg  \n",
       "1        Brewed Chai tea     Spicy Eye Opener Chai Lg  \n",
       "2          Hot chocolate            Dark chocolate Lg  \n",
       "3            Drip coffee  Our Old Time Diner Blend Sm  \n",
       "4        Brewed Chai tea     Spicy Eye Opener Chai Lg  "
      ]
     },
     "execution_count": 4,
     "metadata": {},
     "output_type": "execute_result"
    }
   ],
   "source": [
    "df.head()"
   ]
  },
  {
   "cell_type": "code",
   "execution_count": 5,
   "id": "f5c07651",
   "metadata": {},
   "outputs": [
    {
     "data": {
      "text/plain": [
       "(149116, 11)"
      ]
     },
     "execution_count": 5,
     "metadata": {},
     "output_type": "execute_result"
    }
   ],
   "source": [
    "df.shape"
   ]
  },
  {
   "cell_type": "code",
   "execution_count": 6,
   "id": "24adf586",
   "metadata": {
    "scrolled": true
   },
   "outputs": [
    {
     "name": "stdout",
     "output_type": "stream",
     "text": [
      "<class 'pandas.core.frame.DataFrame'>\n",
      "RangeIndex: 149116 entries, 0 to 149115\n",
      "Data columns (total 11 columns):\n",
      " #   Column            Non-Null Count   Dtype  \n",
      "---  ------            --------------   -----  \n",
      " 0   transaction_id    149116 non-null  int64  \n",
      " 1   transaction_date  149116 non-null  object \n",
      " 2   transaction_time  149116 non-null  object \n",
      " 3   transaction_qty   149116 non-null  int64  \n",
      " 4   store_id          149116 non-null  int64  \n",
      " 5   store_location    149116 non-null  object \n",
      " 6   product_id        149116 non-null  int64  \n",
      " 7   unit_price        149116 non-null  float64\n",
      " 8   product_category  149116 non-null  object \n",
      " 9   product_type      149116 non-null  object \n",
      " 10  product_detail    149116 non-null  object \n",
      "dtypes: float64(1), int64(4), object(6)\n",
      "memory usage: 12.5+ MB\n"
     ]
    }
   ],
   "source": [
    "df.info()"
   ]
  },
  {
   "cell_type": "markdown",
   "id": "47cebc6a",
   "metadata": {},
   "source": [
    "---------> NO NULL FOUND IN THIS DATA"
   ]
  },
  {
   "cell_type": "code",
   "execution_count": 81,
   "id": "ac756816",
   "metadata": {},
   "outputs": [],
   "source": [
    "df['transaction_date']=pd.to_datetime(df['transaction_date'])\n",
    "df['transaction_time']=pd.to_datetime(df['transaction_time'])"
   ]
  },
  {
   "cell_type": "code",
   "execution_count": 70,
   "id": "842e34b8",
   "metadata": {},
   "outputs": [
    {
     "data": {
      "text/plain": [
       "dtype('<M8[ns]')"
      ]
     },
     "execution_count": 70,
     "metadata": {},
     "output_type": "execute_result"
    }
   ],
   "source": [
    "df['transaction_date'].dtype"
   ]
  },
  {
   "cell_type": "code",
   "execution_count": 82,
   "id": "7d27da6f",
   "metadata": {},
   "outputs": [
    {
     "data": {
      "text/plain": [
       "dtype('<M8[ns]')"
      ]
     },
     "execution_count": 82,
     "metadata": {},
     "output_type": "execute_result"
    }
   ],
   "source": [
    "df['transaction_time'].dtype"
   ]
  },
  {
   "cell_type": "code",
   "execution_count": 69,
   "id": "7ec77499",
   "metadata": {},
   "outputs": [
    {
     "data": {
      "text/html": [
       "<div>\n",
       "<style scoped>\n",
       "    .dataframe tbody tr th:only-of-type {\n",
       "        vertical-align: middle;\n",
       "    }\n",
       "\n",
       "    .dataframe tbody tr th {\n",
       "        vertical-align: top;\n",
       "    }\n",
       "\n",
       "    .dataframe thead th {\n",
       "        text-align: right;\n",
       "    }\n",
       "</style>\n",
       "<table border=\"1\" class=\"dataframe\">\n",
       "  <thead>\n",
       "    <tr style=\"text-align: right;\">\n",
       "      <th></th>\n",
       "      <th>transaction_id</th>\n",
       "      <th>transaction_date</th>\n",
       "      <th>transaction_time</th>\n",
       "      <th>transaction_qty</th>\n",
       "      <th>store_id</th>\n",
       "      <th>store_location</th>\n",
       "      <th>product_id</th>\n",
       "      <th>unit_price</th>\n",
       "      <th>product_category</th>\n",
       "      <th>product_type</th>\n",
       "      <th>product_detail</th>\n",
       "      <th>total_sales</th>\n",
       "      <th>month</th>\n",
       "    </tr>\n",
       "  </thead>\n",
       "  <tbody>\n",
       "    <tr>\n",
       "      <th>0</th>\n",
       "      <td>1</td>\n",
       "      <td>2023-01-01</td>\n",
       "      <td>7:06:11</td>\n",
       "      <td>2</td>\n",
       "      <td>5</td>\n",
       "      <td>Lower Manhattan</td>\n",
       "      <td>32</td>\n",
       "      <td>3.0</td>\n",
       "      <td>Coffee</td>\n",
       "      <td>Gourmet brewed coffee</td>\n",
       "      <td>Ethiopia Rg</td>\n",
       "      <td>6.0</td>\n",
       "      <td>1</td>\n",
       "    </tr>\n",
       "    <tr>\n",
       "      <th>1</th>\n",
       "      <td>2</td>\n",
       "      <td>2023-01-01</td>\n",
       "      <td>7:08:56</td>\n",
       "      <td>2</td>\n",
       "      <td>5</td>\n",
       "      <td>Lower Manhattan</td>\n",
       "      <td>57</td>\n",
       "      <td>3.1</td>\n",
       "      <td>Tea</td>\n",
       "      <td>Brewed Chai tea</td>\n",
       "      <td>Spicy Eye Opener Chai Lg</td>\n",
       "      <td>6.2</td>\n",
       "      <td>1</td>\n",
       "    </tr>\n",
       "    <tr>\n",
       "      <th>2</th>\n",
       "      <td>3</td>\n",
       "      <td>2023-01-01</td>\n",
       "      <td>7:14:04</td>\n",
       "      <td>2</td>\n",
       "      <td>5</td>\n",
       "      <td>Lower Manhattan</td>\n",
       "      <td>59</td>\n",
       "      <td>4.5</td>\n",
       "      <td>Drinking Chocolate</td>\n",
       "      <td>Hot chocolate</td>\n",
       "      <td>Dark chocolate Lg</td>\n",
       "      <td>9.0</td>\n",
       "      <td>1</td>\n",
       "    </tr>\n",
       "    <tr>\n",
       "      <th>3</th>\n",
       "      <td>4</td>\n",
       "      <td>2023-01-01</td>\n",
       "      <td>7:20:24</td>\n",
       "      <td>1</td>\n",
       "      <td>5</td>\n",
       "      <td>Lower Manhattan</td>\n",
       "      <td>22</td>\n",
       "      <td>2.0</td>\n",
       "      <td>Coffee</td>\n",
       "      <td>Drip coffee</td>\n",
       "      <td>Our Old Time Diner Blend Sm</td>\n",
       "      <td>2.0</td>\n",
       "      <td>1</td>\n",
       "    </tr>\n",
       "    <tr>\n",
       "      <th>4</th>\n",
       "      <td>5</td>\n",
       "      <td>2023-01-01</td>\n",
       "      <td>7:22:41</td>\n",
       "      <td>2</td>\n",
       "      <td>5</td>\n",
       "      <td>Lower Manhattan</td>\n",
       "      <td>57</td>\n",
       "      <td>3.1</td>\n",
       "      <td>Tea</td>\n",
       "      <td>Brewed Chai tea</td>\n",
       "      <td>Spicy Eye Opener Chai Lg</td>\n",
       "      <td>6.2</td>\n",
       "      <td>1</td>\n",
       "    </tr>\n",
       "  </tbody>\n",
       "</table>\n",
       "</div>"
      ],
      "text/plain": [
       "   transaction_id transaction_date transaction_time  transaction_qty  \\\n",
       "0               1       2023-01-01          7:06:11                2   \n",
       "1               2       2023-01-01          7:08:56                2   \n",
       "2               3       2023-01-01          7:14:04                2   \n",
       "3               4       2023-01-01          7:20:24                1   \n",
       "4               5       2023-01-01          7:22:41                2   \n",
       "\n",
       "   store_id   store_location  product_id  unit_price    product_category  \\\n",
       "0         5  Lower Manhattan          32         3.0              Coffee   \n",
       "1         5  Lower Manhattan          57         3.1                 Tea   \n",
       "2         5  Lower Manhattan          59         4.5  Drinking Chocolate   \n",
       "3         5  Lower Manhattan          22         2.0              Coffee   \n",
       "4         5  Lower Manhattan          57         3.1                 Tea   \n",
       "\n",
       "            product_type               product_detail  total_sales  month  \n",
       "0  Gourmet brewed coffee                  Ethiopia Rg          6.0      1  \n",
       "1        Brewed Chai tea     Spicy Eye Opener Chai Lg          6.2      1  \n",
       "2          Hot chocolate            Dark chocolate Lg          9.0      1  \n",
       "3            Drip coffee  Our Old Time Diner Blend Sm          2.0      1  \n",
       "4        Brewed Chai tea     Spicy Eye Opener Chai Lg          6.2      1  "
      ]
     },
     "execution_count": 69,
     "metadata": {},
     "output_type": "execute_result"
    }
   ],
   "source": [
    "df.head()"
   ]
  },
  {
   "cell_type": "code",
   "execution_count": 7,
   "id": "03c1abbf",
   "metadata": {
    "scrolled": true
   },
   "outputs": [
    {
     "data": {
      "text/html": [
       "<div>\n",
       "<style scoped>\n",
       "    .dataframe tbody tr th:only-of-type {\n",
       "        vertical-align: middle;\n",
       "    }\n",
       "\n",
       "    .dataframe tbody tr th {\n",
       "        vertical-align: top;\n",
       "    }\n",
       "\n",
       "    .dataframe thead th {\n",
       "        text-align: right;\n",
       "    }\n",
       "</style>\n",
       "<table border=\"1\" class=\"dataframe\">\n",
       "  <thead>\n",
       "    <tr style=\"text-align: right;\">\n",
       "      <th></th>\n",
       "      <th>transaction_qty</th>\n",
       "      <th>unit_price</th>\n",
       "    </tr>\n",
       "  </thead>\n",
       "  <tbody>\n",
       "    <tr>\n",
       "      <th>count</th>\n",
       "      <td>149116.000000</td>\n",
       "      <td>149116.000000</td>\n",
       "    </tr>\n",
       "    <tr>\n",
       "      <th>mean</th>\n",
       "      <td>1.438276</td>\n",
       "      <td>3.382219</td>\n",
       "    </tr>\n",
       "    <tr>\n",
       "      <th>std</th>\n",
       "      <td>0.542509</td>\n",
       "      <td>2.658723</td>\n",
       "    </tr>\n",
       "    <tr>\n",
       "      <th>min</th>\n",
       "      <td>1.000000</td>\n",
       "      <td>0.800000</td>\n",
       "    </tr>\n",
       "    <tr>\n",
       "      <th>25%</th>\n",
       "      <td>1.000000</td>\n",
       "      <td>2.500000</td>\n",
       "    </tr>\n",
       "    <tr>\n",
       "      <th>50%</th>\n",
       "      <td>1.000000</td>\n",
       "      <td>3.000000</td>\n",
       "    </tr>\n",
       "    <tr>\n",
       "      <th>75%</th>\n",
       "      <td>2.000000</td>\n",
       "      <td>3.750000</td>\n",
       "    </tr>\n",
       "    <tr>\n",
       "      <th>max</th>\n",
       "      <td>8.000000</td>\n",
       "      <td>45.000000</td>\n",
       "    </tr>\n",
       "  </tbody>\n",
       "</table>\n",
       "</div>"
      ],
      "text/plain": [
       "       transaction_qty     unit_price\n",
       "count    149116.000000  149116.000000\n",
       "mean          1.438276       3.382219\n",
       "std           0.542509       2.658723\n",
       "min           1.000000       0.800000\n",
       "25%           1.000000       2.500000\n",
       "50%           1.000000       3.000000\n",
       "75%           2.000000       3.750000\n",
       "max           8.000000      45.000000"
      ]
     },
     "execution_count": 7,
     "metadata": {},
     "output_type": "execute_result"
    }
   ],
   "source": [
    "df[['transaction_qty','unit_price']].describe()"
   ]
  },
  {
   "cell_type": "markdown",
   "id": "72ee8b30",
   "metadata": {},
   "source": [
    "----------->No high dispersion found in"
   ]
  },
  {
   "cell_type": "code",
   "execution_count": 9,
   "id": "44fae83e",
   "metadata": {
    "scrolled": true
   },
   "outputs": [
    {
     "data": {
      "text/plain": [
       "Index(['transaction_id', 'transaction_date', 'transaction_time',\n",
       "       'transaction_qty', 'store_id', 'store_location', 'product_id',\n",
       "       'unit_price', 'product_category', 'product_type', 'product_detail'],\n",
       "      dtype='object')"
      ]
     },
     "execution_count": 9,
     "metadata": {},
     "output_type": "execute_result"
    }
   ],
   "source": [
    "df.columns"
   ]
  },
  {
   "cell_type": "markdown",
   "id": "040ab465",
   "metadata": {},
   "source": [
    "--------TOTAL SALES"
   ]
  },
  {
   "cell_type": "code",
   "execution_count": 17,
   "id": "448dab6d",
   "metadata": {},
   "outputs": [
    {
     "data": {
      "text/plain": [
       "698812.3300000002"
      ]
     },
     "execution_count": 17,
     "metadata": {},
     "output_type": "execute_result"
    }
   ],
   "source": [
    "df['total_sales']= df['transaction_qty']*df['unit_price']\n",
    "df['total_sales'].sum()"
   ]
  },
  {
   "cell_type": "markdown",
   "id": "4f4b723f",
   "metadata": {},
   "source": [
    "---------AVG SALES"
   ]
  },
  {
   "cell_type": "code",
   "execution_count": 19,
   "id": "4af85967",
   "metadata": {},
   "outputs": [
    {
     "data": {
      "text/plain": [
       "4.686367190643527"
      ]
     },
     "execution_count": 19,
     "metadata": {},
     "output_type": "execute_result"
    }
   ],
   "source": [
    "df['total_sales'].mean()"
   ]
  },
  {
   "cell_type": "markdown",
   "id": "15be7851",
   "metadata": {},
   "source": [
    "-------TOTAL QUANTITY SOLD"
   ]
  },
  {
   "cell_type": "code",
   "execution_count": 20,
   "id": "a6613f95",
   "metadata": {},
   "outputs": [
    {
     "data": {
      "text/plain": [
       "214470"
      ]
     },
     "execution_count": 20,
     "metadata": {},
     "output_type": "execute_result"
    }
   ],
   "source": [
    "df['transaction_qty'].sum()"
   ]
  },
  {
   "cell_type": "markdown",
   "id": "2f17449a",
   "metadata": {},
   "source": [
    "------TOTAL ORDERS"
   ]
  },
  {
   "cell_type": "code",
   "execution_count": 37,
   "id": "40e057c3",
   "metadata": {},
   "outputs": [
    {
     "data": {
      "text/plain": [
       "149116"
      ]
     },
     "execution_count": 37,
     "metadata": {},
     "output_type": "execute_result"
    }
   ],
   "source": [
    "df['transaction_id'].count()"
   ]
  },
  {
   "cell_type": "markdown",
   "id": "a4ee2833",
   "metadata": {},
   "source": [
    "## visualisation"
   ]
  },
  {
   "cell_type": "markdown",
   "id": "1d46b418",
   "metadata": {},
   "source": [
    "### product_category wise sales"
   ]
  },
  {
   "cell_type": "code",
   "execution_count": 42,
   "id": "e4c0c285",
   "metadata": {
    "scrolled": true
   },
   "outputs": [
    {
     "data": {
      "image/png": "[encoded data removed]",
      "text/plain": [
       "<Figure size 1000x600 with 1 Axes>"
      ]
     },
     "metadata": {},
     "output_type": "display_data"
    }
   ],
   "source": [
    "saels_by_product_category=df.groupby(['product_category'],as_index=False)['total_sales'].sum().sort_values(by='total_sales',ascending=False)\n",
    "plt.figure(figsize=(10, 6)) \n",
    "sns.barplot(x='product_category',y='total_sales',data=saels_by_product_category)\n",
    "plt.xticks(rotation=45) \n",
    "plt.show()"
   ]
  },
  {
   "cell_type": "code",
   "execution_count": 46,
   "id": "ab595122",
   "metadata": {
    "scrolled": true
   },
   "outputs": [
    {
     "name": "stdout",
     "output_type": "stream",
     "text": [
      "TOTAL SALES OF COFFEE = 269952.44999999995\n"
     ]
    }
   ],
   "source": [
    "sales=df[df['product_category']=='Coffee']['total_sales'].sum()\n",
    "print(\"TOTAL SALES OF COFFEE =\",sales)"
   ]
  },
  {
   "cell_type": "markdown",
   "id": "a1db1e2c",
   "metadata": {},
   "source": [
    "### product category wise sold quantity "
   ]
  },
  {
   "cell_type": "code",
   "execution_count": 44,
   "id": "505372ff",
   "metadata": {},
   "outputs": [
    {
     "data": {
      "image/png": "[encoded data removed]",
      "text/plain": [
       "<Figure size 1000x600 with 1 Axes>"
      ]
     },
     "metadata": {},
     "output_type": "display_data"
    }
   ],
   "source": [
    "total_qty_by_product_category=df.groupby(['product_category'],as_index=False)['transaction_qty'].sum().sort_values(by='transaction_qty',ascending=False)\n",
    "plt.figure(figsize=(10, 6)) \n",
    "sns.barplot(x='product_category',y= 'transaction_qty',data=total_qty_by_product_category)\n",
    "plt.xticks(rotation=45) \n",
    "plt.show()"
   ]
  },
  {
   "cell_type": "code",
   "execution_count": 47,
   "id": "3e02c1fc",
   "metadata": {},
   "outputs": [
    {
     "name": "stdout",
     "output_type": "stream",
     "text": [
      "TOTAL QUANTITY OF COFFEE = 89250\n"
     ]
    }
   ],
   "source": [
    "quantity =df[df['product_category']=='Coffee']['transaction_qty'].sum()\n",
    "print(\"TOTAL QUANTITY OF COFFEE =\",quantity)"
   ]
  },
  {
   "cell_type": "markdown",
   "id": "06cf3806",
   "metadata": {},
   "source": [
    "----------->  \n",
    "From above graphs we can see that most of the sales amount and sold quantity product is coffee\n"
   ]
  },
  {
   "cell_type": "markdown",
   "id": "da19e3a7",
   "metadata": {},
   "source": [
    "### store location wise sales"
   ]
  },
  {
   "cell_type": "code",
   "execution_count": 95,
   "id": "b31c480d",
   "metadata": {
    "scrolled": true
   },
   "outputs": [
    {
     "data": {
      "image/png": "[encoded data removed]",
      "text/plain": [
       "<Figure size 800x800 with 1 Axes>"
      ]
     },
     "metadata": {},
     "output_type": "display_data"
    }
   ],
   "source": [
    "sales_by_location=df.groupby(['store_location'],as_index=False)['total_sales'].sum().sort_values(by='total_sales',ascending=False)\n",
    "plt.figure(figsize=(8,8))\n",
    "plt.pie(sales_by_location['total_sales'],labels=sales_by_location['store_location'],autopct='%1.1f%%')\n",
    "plt.title('Total Sales by Store Location')\n",
    "plt.show()"
   ]
  },
  {
   "cell_type": "code",
   "execution_count": 96,
   "id": "1f191f1c",
   "metadata": {},
   "outputs": [
    {
     "data": {
      "text/html": [
       "<div>\n",
       "<style scoped>\n",
       "    .dataframe tbody tr th:only-of-type {\n",
       "        vertical-align: middle;\n",
       "    }\n",
       "\n",
       "    .dataframe tbody tr th {\n",
       "        vertical-align: top;\n",
       "    }\n",
       "\n",
       "    .dataframe thead th {\n",
       "        text-align: right;\n",
       "    }\n",
       "</style>\n",
       "<table border=\"1\" class=\"dataframe\">\n",
       "  <thead>\n",
       "    <tr style=\"text-align: right;\">\n",
       "      <th></th>\n",
       "      <th>store_location</th>\n",
       "      <th>total_sales</th>\n",
       "    </tr>\n",
       "  </thead>\n",
       "  <tbody>\n",
       "    <tr>\n",
       "      <th>1</th>\n",
       "      <td>Hell's Kitchen</td>\n",
       "      <td>236511.17</td>\n",
       "    </tr>\n",
       "    <tr>\n",
       "      <th>0</th>\n",
       "      <td>Astoria</td>\n",
       "      <td>232243.91</td>\n",
       "    </tr>\n",
       "    <tr>\n",
       "      <th>2</th>\n",
       "      <td>Lower Manhattan</td>\n",
       "      <td>230057.25</td>\n",
       "    </tr>\n",
       "  </tbody>\n",
       "</table>\n",
       "</div>"
      ],
      "text/plain": [
       "    store_location  total_sales\n",
       "1   Hell's Kitchen    236511.17\n",
       "0          Astoria    232243.91\n",
       "2  Lower Manhattan    230057.25"
      ]
     },
     "execution_count": 96,
     "metadata": {},
     "output_type": "execute_result"
    }
   ],
   "source": [
    "df.groupby(['store_location'],as_index=False)['total_sales'].sum().sort_values(by='total_sales',ascending=False)"
   ]
  },
  {
   "cell_type": "markdown",
   "id": "9e5fc60e",
   "metadata": {},
   "source": [
    "---------------> We can see in graph that our highest sales are happening at the hell's kitchen store location."
   ]
  },
  {
   "cell_type": "markdown",
   "id": "608ec624",
   "metadata": {},
   "source": [
    "### month wise sales"
   ]
  },
  {
   "cell_type": "code",
   "execution_count": null,
   "id": "b3794b8b",
   "metadata": {},
   "outputs": [],
   "source": [
    "df['month']=df['transaction_date'].dt.month"
   ]
  },
  {
   "cell_type": "code",
   "execution_count": 80,
   "id": "dda61508",
   "metadata": {
    "scrolled": true
   },
   "outputs": [
    {
     "data": {
      "image/png": "[encoded data removed]",
      "text/plain": [
       "<Figure size 1000x600 with 1 Axes>"
      ]
     },
     "metadata": {},
     "output_type": "display_data"
    }
   ],
   "source": [
    "monthly_sales=df.groupby(['month'],as_index=False)['total_sales'].sum().sort_values(by='total_sales',ascending=False)\n",
    "plt.figure(figsize=(10,6))\n",
    "sns.barplot(x='month',y='total_sales',data=monthly_sales)\n",
    "plt.title('Total Sales by Month')\n",
    "plt.show()"
   ]
  },
  {
   "cell_type": "code",
   "execution_count": 78,
   "id": "0d7daed0",
   "metadata": {},
   "outputs": [
    {
     "data": {
      "text/html": [
       "<div>\n",
       "<style scoped>\n",
       "    .dataframe tbody tr th:only-of-type {\n",
       "        vertical-align: middle;\n",
       "    }\n",
       "\n",
       "    .dataframe tbody tr th {\n",
       "        vertical-align: top;\n",
       "    }\n",
       "\n",
       "    .dataframe thead th {\n",
       "        text-align: right;\n",
       "    }\n",
       "</style>\n",
       "<table border=\"1\" class=\"dataframe\">\n",
       "  <thead>\n",
       "    <tr style=\"text-align: right;\">\n",
       "      <th></th>\n",
       "      <th>month</th>\n",
       "      <th>total_sales</th>\n",
       "    </tr>\n",
       "  </thead>\n",
       "  <tbody>\n",
       "    <tr>\n",
       "      <th>5</th>\n",
       "      <td>6</td>\n",
       "      <td>166485.88</td>\n",
       "    </tr>\n",
       "    <tr>\n",
       "      <th>4</th>\n",
       "      <td>5</td>\n",
       "      <td>156727.76</td>\n",
       "    </tr>\n",
       "    <tr>\n",
       "      <th>3</th>\n",
       "      <td>4</td>\n",
       "      <td>118941.08</td>\n",
       "    </tr>\n",
       "    <tr>\n",
       "      <th>2</th>\n",
       "      <td>3</td>\n",
       "      <td>98834.68</td>\n",
       "    </tr>\n",
       "    <tr>\n",
       "      <th>0</th>\n",
       "      <td>1</td>\n",
       "      <td>81677.74</td>\n",
       "    </tr>\n",
       "    <tr>\n",
       "      <th>1</th>\n",
       "      <td>2</td>\n",
       "      <td>76145.19</td>\n",
       "    </tr>\n",
       "  </tbody>\n",
       "</table>\n",
       "</div>"
      ],
      "text/plain": [
       "   month  total_sales\n",
       "5      6    166485.88\n",
       "4      5    156727.76\n",
       "3      4    118941.08\n",
       "2      3     98834.68\n",
       "0      1     81677.74\n",
       "1      2     76145.19"
      ]
     },
     "execution_count": 78,
     "metadata": {},
     "output_type": "execute_result"
    }
   ],
   "source": [
    "df.groupby(['month'],as_index=False)['total_sales'].sum().sort_values(by='total_sales',ascending=False)"
   ]
  },
  {
   "cell_type": "markdown",
   "id": "05a74e4e",
   "metadata": {},
   "source": [
    "---------->\n",
    "From above graphs we can see that most of the sales in -JUN- month"
   ]
  },
  {
   "cell_type": "markdown",
   "id": "ba240a9f",
   "metadata": {},
   "source": [
    "### hour wise sales"
   ]
  },
  {
   "cell_type": "code",
   "execution_count": 88,
   "id": "df16fe68",
   "metadata": {},
   "outputs": [],
   "source": [
    "df['hour']=df['transaction_time'].dt.hour"
   ]
  },
  {
   "cell_type": "code",
   "execution_count": 89,
   "id": "ae33d57e",
   "metadata": {},
   "outputs": [
    {
     "data": {
      "text/html": [
       "<div>\n",
       "<style scoped>\n",
       "    .dataframe tbody tr th:only-of-type {\n",
       "        vertical-align: middle;\n",
       "    }\n",
       "\n",
       "    .dataframe tbody tr th {\n",
       "        vertical-align: top;\n",
       "    }\n",
       "\n",
       "    .dataframe thead th {\n",
       "        text-align: right;\n",
       "    }\n",
       "</style>\n",
       "<table border=\"1\" class=\"dataframe\">\n",
       "  <thead>\n",
       "    <tr style=\"text-align: right;\">\n",
       "      <th></th>\n",
       "      <th>transaction_id</th>\n",
       "      <th>transaction_date</th>\n",
       "      <th>transaction_time</th>\n",
       "      <th>transaction_qty</th>\n",
       "      <th>store_id</th>\n",
       "      <th>store_location</th>\n",
       "      <th>product_id</th>\n",
       "      <th>unit_price</th>\n",
       "      <th>product_category</th>\n",
       "      <th>product_type</th>\n",
       "      <th>product_detail</th>\n",
       "      <th>total_sales</th>\n",
       "      <th>month</th>\n",
       "      <th>hour</th>\n",
       "    </tr>\n",
       "  </thead>\n",
       "  <tbody>\n",
       "    <tr>\n",
       "      <th>0</th>\n",
       "      <td>1</td>\n",
       "      <td>2023-01-01</td>\n",
       "      <td>2024-05-08 07:06:11</td>\n",
       "      <td>2</td>\n",
       "      <td>5</td>\n",
       "      <td>Lower Manhattan</td>\n",
       "      <td>32</td>\n",
       "      <td>3.0</td>\n",
       "      <td>Coffee</td>\n",
       "      <td>Gourmet brewed coffee</td>\n",
       "      <td>Ethiopia Rg</td>\n",
       "      <td>6.0</td>\n",
       "      <td>1</td>\n",
       "      <td>7</td>\n",
       "    </tr>\n",
       "    <tr>\n",
       "      <th>1</th>\n",
       "      <td>2</td>\n",
       "      <td>2023-01-01</td>\n",
       "      <td>2024-05-08 07:08:56</td>\n",
       "      <td>2</td>\n",
       "      <td>5</td>\n",
       "      <td>Lower Manhattan</td>\n",
       "      <td>57</td>\n",
       "      <td>3.1</td>\n",
       "      <td>Tea</td>\n",
       "      <td>Brewed Chai tea</td>\n",
       "      <td>Spicy Eye Opener Chai Lg</td>\n",
       "      <td>6.2</td>\n",
       "      <td>1</td>\n",
       "      <td>7</td>\n",
       "    </tr>\n",
       "  </tbody>\n",
       "</table>\n",
       "</div>"
      ],
      "text/plain": [
       "   transaction_id transaction_date    transaction_time  transaction_qty  \\\n",
       "0               1       2023-01-01 2024-05-08 07:06:11                2   \n",
       "1               2       2023-01-01 2024-05-08 07:08:56                2   \n",
       "\n",
       "   store_id   store_location  product_id  unit_price product_category  \\\n",
       "0         5  Lower Manhattan          32         3.0           Coffee   \n",
       "1         5  Lower Manhattan          57         3.1              Tea   \n",
       "\n",
       "            product_type            product_detail  total_sales  month  hour  \n",
       "0  Gourmet brewed coffee               Ethiopia Rg          6.0      1     7  \n",
       "1        Brewed Chai tea  Spicy Eye Opener Chai Lg          6.2      1     7  "
      ]
     },
     "execution_count": 89,
     "metadata": {},
     "output_type": "execute_result"
    }
   ],
   "source": [
    "df.head(2)"
   ]
  },
  {
   "cell_type": "code",
   "execution_count": 91,
   "id": "52efe641",
   "metadata": {},
   "outputs": [
    {
     "data": {
      "image/png": "[encoded data removed]",
      "text/plain": [
       "<Figure size 1000x600 with 1 Axes>"
      ]
     },
     "metadata": {},
     "output_type": "display_data"
    }
   ],
   "source": [
    "hour_wise_sales=df.groupby(['hour'],as_index=False)['total_sales'].sum().sort_values(by='total_sales',ascending=False)\n",
    "plt.figure(figsize=(10,6))\n",
    "sns.barplot(x='hour',y='total_sales',data=hour_wise_sales)\n",
    "plt.title('Total Sales by time')\n",
    "plt.show()"
   ]
  },
  {
   "cell_type": "markdown",
   "id": "5902aff4",
   "metadata": {},
   "source": [
    "--------->  We can see in the graph that at 10:00 sales are at their peak. And sales are highest from 7 am to 10:00 am"
   ]
  },
  {
   "cell_type": "markdown",
   "id": "ee178a5d",
   "metadata": {},
   "source": [
    "## Conclusion:-"
   ]
  },
  {
   "cell_type": "markdown",
   "id": "d0b7f2f3",
   "metadata": {},
   "source": [
    "The conclusion that comes from this is that there is the highest demand for coffee at all three store locations and because coffee has the highest sales amount and the highest quantity of coffee is being sold.\n",
    "If we look at it from 7:00 AM to 10:00 AM, the maximum sales take place at all the three stores, hence we can take advantage of that time by increasing our staff on time and increase our sales."
   ]
  }
 ],
 "metadata": {
  "kernelspec": {
   "display_name": "Python 3 (ipykernel)",
   "language": "python",
   "name": "python3"
  },
  "language_info": {
   "codemirror_mode": {
    "name": "ipython",
    "version": 3
   },
   "file_extension": ".py",
   "mimetype": "text/x-python",
   "name": "python",
   "nbconvert_exporter": "python",
   "pygments_lexer": "ipython3",
   "version": "3.11.4"
  }
 },
 "nbformat": 4,
 "nbformat_minor": 5
}
